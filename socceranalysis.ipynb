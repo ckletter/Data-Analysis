{
 "cells": [
  {
   "cell_type": "markdown",
   "metadata": {},
   "source": [
    "# 1. Import Libraries"
   ]
  },
  {
   "cell_type": "code",
   "execution_count": 172,
   "metadata": {},
   "outputs": [],
   "source": [
    "import pandas as pd\n",
    "import numpy as np\n",
    "import matplotlib.pyplot as plt\n",
    "import seaborn as sns"
   ]
  },
  {
   "cell_type": "markdown",
   "metadata": {},
   "source": [
    "# 2. Load Dataset"
   ]
  },
  {
   "cell_type": "code",
   "execution_count": 173,
   "metadata": {},
   "outputs": [
    {
     "name": "stderr",
     "output_type": "stream",
     "text": [
      "/var/folders/gx/k5m32j_16ts37x6v8_n14c9h0000gn/T/ipykernel_47894/2524956791.py:3: DtypeWarning: Columns (0,1) have mixed types. Specify dtype option on import or set low_memory=False.\n",
      "  df_match = pd.read_csv(\"data/match.csv\",  index_col=\"id\")\n"
     ]
    }
   ],
   "source": [
    "df_country = pd.read_csv(\"data/country.csv\",  index_col=\"id\")\n",
    "df_league = pd.read_csv(\"data/league.csv\", index_col=\"id\")\n",
    "df_match = pd.read_csv(\"data/match.csv\",  index_col=\"id\")\n",
    "df_players = pd.read_csv(\"data/players.csv\", delimiter=\"|\",  index_col=\"id\")\n",
    "df_team = pd.read_csv(\"data/team.csv\", delimiter=\"|\",  index_col=\"id\")"
   ]
  },
  {
   "cell_type": "markdown",
   "metadata": {},
   "source": [
    "# 3. Understand the Data"
   ]
  },
  {
   "cell_type": "code",
   "execution_count": 174,
   "metadata": {},
   "outputs": [
    {
     "name": "stdout",
     "output_type": "stream",
     "text": [
      "<class 'pandas.core.frame.DataFrame'>\n",
      "Index: 11 entries, 1 to 24558\n",
      "Data columns (total 1 columns):\n",
      " #   Column  Non-Null Count  Dtype \n",
      "---  ------  --------------  ----- \n",
      " 0   name    11 non-null     object\n",
      "dtypes: object(1)\n",
      "memory usage: 176.0+ bytes\n",
      "<class 'pandas.core.frame.DataFrame'>\n",
      "Index: 11 entries, 1 to 24558\n",
      "Data columns (total 2 columns):\n",
      " #   Column      Non-Null Count  Dtype \n",
      "---  ------      --------------  ----- \n",
      " 0   country_id  11 non-null     int64 \n",
      " 1   name        11 non-null     object\n",
      "dtypes: int64(1), object(1)\n",
      "memory usage: 264.0+ bytes\n",
      "<class 'pandas.core.frame.DataFrame'>\n",
      "Index: 11060 entries, 1 to 11075\n",
      "Data columns (total 6 columns):\n",
      " #   Column              Non-Null Count  Dtype  \n",
      "---  ------              --------------  -----  \n",
      " 0   player_api_id       11060 non-null  int64  \n",
      " 1   player_name         11060 non-null  object \n",
      " 2   player_fifa_api_id  11060 non-null  int64  \n",
      " 3   birthday            11060 non-null  object \n",
      " 4   height              11060 non-null  float64\n",
      " 5   weight              11060 non-null  int64  \n",
      "dtypes: float64(1), int64(3), object(2)\n",
      "memory usage: 604.8+ KB\n"
     ]
    }
   ],
   "source": [
    "df_country.info()\n",
    "df_league.info()\n",
    "df_players.info()\n"
   ]
  },
  {
   "cell_type": "code",
   "execution_count": 175,
   "metadata": {},
   "outputs": [
    {
     "data": {
      "text/html": [
       "<div>\n",
       "<style scoped>\n",
       "    .dataframe tbody tr th:only-of-type {\n",
       "        vertical-align: middle;\n",
       "    }\n",
       "\n",
       "    .dataframe tbody tr th {\n",
       "        vertical-align: top;\n",
       "    }\n",
       "\n",
       "    .dataframe thead th {\n",
       "        text-align: right;\n",
       "    }\n",
       "</style>\n",
       "<table border=\"1\" class=\"dataframe\">\n",
       "  <thead>\n",
       "    <tr style=\"text-align: right;\">\n",
       "      <th></th>\n",
       "      <th>country_id</th>\n",
       "      <th>league_id</th>\n",
       "      <th>season</th>\n",
       "      <th>stage</th>\n",
       "      <th>date</th>\n",
       "      <th>matcway_team_aph_api_id</th>\n",
       "      <th>home_team_api_id</th>\n",
       "      <th>ai_id</th>\n",
       "      <th>home_team_goal</th>\n",
       "      <th>away_team_goal</th>\n",
       "      <th>...</th>\n",
       "      <th>SJA</th>\n",
       "      <th>VCH</th>\n",
       "      <th>VCD</th>\n",
       "      <th>VCA</th>\n",
       "      <th>GBH</th>\n",
       "      <th>GBD</th>\n",
       "      <th>GBA</th>\n",
       "      <th>BSH</th>\n",
       "      <th>BSD</th>\n",
       "      <th>BSA</th>\n",
       "    </tr>\n",
       "    <tr>\n",
       "      <th>id</th>\n",
       "      <th></th>\n",
       "      <th></th>\n",
       "      <th></th>\n",
       "      <th></th>\n",
       "      <th></th>\n",
       "      <th></th>\n",
       "      <th></th>\n",
       "      <th></th>\n",
       "      <th></th>\n",
       "      <th></th>\n",
       "      <th></th>\n",
       "      <th></th>\n",
       "      <th></th>\n",
       "      <th></th>\n",
       "      <th></th>\n",
       "      <th></th>\n",
       "      <th></th>\n",
       "      <th></th>\n",
       "      <th></th>\n",
       "      <th></th>\n",
       "      <th></th>\n",
       "    </tr>\n",
       "  </thead>\n",
       "  <tbody>\n",
       "    <tr>\n",
       "      <th>1</th>\n",
       "      <td>1</td>\n",
       "      <td>1.0</td>\n",
       "      <td>2008/2009</td>\n",
       "      <td>1.0</td>\n",
       "      <td>2008-08-17 00:00:00</td>\n",
       "      <td>492473.0</td>\n",
       "      <td>9987.0</td>\n",
       "      <td>9993.0</td>\n",
       "      <td>1.0</td>\n",
       "      <td>1.0</td>\n",
       "      <td>...</td>\n",
       "      <td>4.00</td>\n",
       "      <td>1.65</td>\n",
       "      <td>3.40</td>\n",
       "      <td>4.50</td>\n",
       "      <td>1.78</td>\n",
       "      <td>3.25</td>\n",
       "      <td>4.00</td>\n",
       "      <td>1.73</td>\n",
       "      <td>3.40</td>\n",
       "      <td>4.20</td>\n",
       "    </tr>\n",
       "    <tr>\n",
       "      <th>2</th>\n",
       "      <td>1</td>\n",
       "      <td>1.0</td>\n",
       "      <td>2008/2009</td>\n",
       "      <td>1.0</td>\n",
       "      <td>2008-08-16 00:00:00</td>\n",
       "      <td>492474.0</td>\n",
       "      <td>10000.0</td>\n",
       "      <td>9994.0</td>\n",
       "      <td>0.0</td>\n",
       "      <td>0.0</td>\n",
       "      <td>...</td>\n",
       "      <td>3.80</td>\n",
       "      <td>2.00</td>\n",
       "      <td>3.25</td>\n",
       "      <td>3.25</td>\n",
       "      <td>1.85</td>\n",
       "      <td>3.25</td>\n",
       "      <td>3.75</td>\n",
       "      <td>1.91</td>\n",
       "      <td>3.25</td>\n",
       "      <td>3.60</td>\n",
       "    </tr>\n",
       "    <tr>\n",
       "      <th>3</th>\n",
       "      <td>1</td>\n",
       "      <td>1.0</td>\n",
       "      <td>2008/2009</td>\n",
       "      <td>1.0</td>\n",
       "      <td>2008-08-16 00:00:00</td>\n",
       "      <td>492475.0</td>\n",
       "      <td>9984.0</td>\n",
       "      <td>8635.0</td>\n",
       "      <td>0.0</td>\n",
       "      <td>3.0</td>\n",
       "      <td>...</td>\n",
       "      <td>2.50</td>\n",
       "      <td>2.35</td>\n",
       "      <td>3.25</td>\n",
       "      <td>2.65</td>\n",
       "      <td>2.50</td>\n",
       "      <td>3.20</td>\n",
       "      <td>2.50</td>\n",
       "      <td>2.30</td>\n",
       "      <td>3.20</td>\n",
       "      <td>2.75</td>\n",
       "    </tr>\n",
       "    <tr>\n",
       "      <th>4</th>\n",
       "      <td>1</td>\n",
       "      <td>1.0</td>\n",
       "      <td>2008/2009</td>\n",
       "      <td>1.0</td>\n",
       "      <td>2008-08-17 00:00:00</td>\n",
       "      <td>492476.0</td>\n",
       "      <td>9991.0</td>\n",
       "      <td>9998.0</td>\n",
       "      <td>5.0</td>\n",
       "      <td>0.0</td>\n",
       "      <td>...</td>\n",
       "      <td>7.50</td>\n",
       "      <td>1.45</td>\n",
       "      <td>3.75</td>\n",
       "      <td>6.50</td>\n",
       "      <td>1.50</td>\n",
       "      <td>3.75</td>\n",
       "      <td>5.50</td>\n",
       "      <td>1.44</td>\n",
       "      <td>3.75</td>\n",
       "      <td>6.50</td>\n",
       "    </tr>\n",
       "    <tr>\n",
       "      <th>5</th>\n",
       "      <td>1</td>\n",
       "      <td>1.0</td>\n",
       "      <td>2008/2009</td>\n",
       "      <td>1.0</td>\n",
       "      <td>2008-08-16 00:00:00</td>\n",
       "      <td>492477.0</td>\n",
       "      <td>7947.0</td>\n",
       "      <td>9985.0</td>\n",
       "      <td>1.0</td>\n",
       "      <td>3.0</td>\n",
       "      <td>...</td>\n",
       "      <td>1.73</td>\n",
       "      <td>4.50</td>\n",
       "      <td>3.40</td>\n",
       "      <td>1.65</td>\n",
       "      <td>4.50</td>\n",
       "      <td>3.50</td>\n",
       "      <td>1.65</td>\n",
       "      <td>4.75</td>\n",
       "      <td>3.30</td>\n",
       "      <td>1.67</td>\n",
       "    </tr>\n",
       "  </tbody>\n",
       "</table>\n",
       "<p>5 rows × 114 columns</p>\n",
       "</div>"
      ],
      "text/plain": [
       "   country_id  league_id     season  stage                 date  \\\n",
       "id                                                                \n",
       "1           1        1.0  2008/2009    1.0  2008-08-17 00:00:00   \n",
       "2           1        1.0  2008/2009    1.0  2008-08-16 00:00:00   \n",
       "3           1        1.0  2008/2009    1.0  2008-08-16 00:00:00   \n",
       "4           1        1.0  2008/2009    1.0  2008-08-17 00:00:00   \n",
       "5           1        1.0  2008/2009    1.0  2008-08-16 00:00:00   \n",
       "\n",
       "    matcway_team_aph_api_id  home_team_api_id   ai_id  home_team_goal  \\\n",
       "id                                                                      \n",
       "1                  492473.0            9987.0  9993.0             1.0   \n",
       "2                  492474.0           10000.0  9994.0             0.0   \n",
       "3                  492475.0            9984.0  8635.0             0.0   \n",
       "4                  492476.0            9991.0  9998.0             5.0   \n",
       "5                  492477.0            7947.0  9985.0             1.0   \n",
       "\n",
       "    away_team_goal  ...   SJA   VCH   VCD   VCA   GBH   GBD   GBA   BSH   BSD  \\\n",
       "id                  ...                                                         \n",
       "1              1.0  ...  4.00  1.65  3.40  4.50  1.78  3.25  4.00  1.73  3.40   \n",
       "2              0.0  ...  3.80  2.00  3.25  3.25  1.85  3.25  3.75  1.91  3.25   \n",
       "3              3.0  ...  2.50  2.35  3.25  2.65  2.50  3.20  2.50  2.30  3.20   \n",
       "4              0.0  ...  7.50  1.45  3.75  6.50  1.50  3.75  5.50  1.44  3.75   \n",
       "5              3.0  ...  1.73  4.50  3.40  1.65  4.50  3.50  1.65  4.75  3.30   \n",
       "\n",
       "     BSA  \n",
       "id        \n",
       "1   4.20  \n",
       "2   3.60  \n",
       "3   2.75  \n",
       "4   6.50  \n",
       "5   1.67  \n",
       "\n",
       "[5 rows x 114 columns]"
      ]
     },
     "execution_count": 175,
     "metadata": {},
     "output_type": "execute_result"
    }
   ],
   "source": [
    "df_country.head(5)\n",
    "df_team.columns\n",
    "df_match.head(5)"
   ]
  },
  {
   "cell_type": "markdown",
   "metadata": {},
   "source": [
    "# 4. Data Processing/Preparation"
   ]
  },
  {
   "cell_type": "markdown",
   "metadata": {},
   "source": [
    "Merge league and country dataframes by country_id"
   ]
  },
  {
   "cell_type": "code",
   "execution_count": 176,
   "metadata": {},
   "outputs": [
    {
     "data": {
      "text/html": [
       "<div>\n",
       "<style scoped>\n",
       "    .dataframe tbody tr th:only-of-type {\n",
       "        vertical-align: middle;\n",
       "    }\n",
       "\n",
       "    .dataframe tbody tr th {\n",
       "        vertical-align: top;\n",
       "    }\n",
       "\n",
       "    .dataframe thead th {\n",
       "        text-align: right;\n",
       "    }\n",
       "</style>\n",
       "<table border=\"1\" class=\"dataframe\">\n",
       "  <thead>\n",
       "    <tr style=\"text-align: right;\">\n",
       "      <th></th>\n",
       "      <th>country_id</th>\n",
       "      <th>name_league</th>\n",
       "      <th>name_country</th>\n",
       "    </tr>\n",
       "  </thead>\n",
       "  <tbody>\n",
       "    <tr>\n",
       "      <th>0</th>\n",
       "      <td>1</td>\n",
       "      <td>Belgium Jupiler League</td>\n",
       "      <td>Belgium</td>\n",
       "    </tr>\n",
       "    <tr>\n",
       "      <th>1</th>\n",
       "      <td>1729</td>\n",
       "      <td>England Premier League</td>\n",
       "      <td>England</td>\n",
       "    </tr>\n",
       "    <tr>\n",
       "      <th>2</th>\n",
       "      <td>4769</td>\n",
       "      <td>France Ligue 1</td>\n",
       "      <td>France</td>\n",
       "    </tr>\n",
       "    <tr>\n",
       "      <th>3</th>\n",
       "      <td>7809</td>\n",
       "      <td>Germany 1. Bundesliga</td>\n",
       "      <td>Germany</td>\n",
       "    </tr>\n",
       "    <tr>\n",
       "      <th>4</th>\n",
       "      <td>10257</td>\n",
       "      <td>Italy Serie A</td>\n",
       "      <td>Italy</td>\n",
       "    </tr>\n",
       "    <tr>\n",
       "      <th>5</th>\n",
       "      <td>13274</td>\n",
       "      <td>Netherlands Eredivisie</td>\n",
       "      <td>Netherlands</td>\n",
       "    </tr>\n",
       "    <tr>\n",
       "      <th>6</th>\n",
       "      <td>15722</td>\n",
       "      <td>Poland Ekstraklasa</td>\n",
       "      <td>Poland</td>\n",
       "    </tr>\n",
       "    <tr>\n",
       "      <th>7</th>\n",
       "      <td>17642</td>\n",
       "      <td>Portugal Liga ZON Sagres</td>\n",
       "      <td>Portugal</td>\n",
       "    </tr>\n",
       "    <tr>\n",
       "      <th>8</th>\n",
       "      <td>19694</td>\n",
       "      <td>Scotland Premier League</td>\n",
       "      <td>Scotland</td>\n",
       "    </tr>\n",
       "    <tr>\n",
       "      <th>9</th>\n",
       "      <td>21518</td>\n",
       "      <td>Spain LIGA BBVA</td>\n",
       "      <td>Spain</td>\n",
       "    </tr>\n",
       "    <tr>\n",
       "      <th>10</th>\n",
       "      <td>24558</td>\n",
       "      <td>Switzerland Super League</td>\n",
       "      <td>Switzerland</td>\n",
       "    </tr>\n",
       "  </tbody>\n",
       "</table>\n",
       "</div>"
      ],
      "text/plain": [
       "    country_id               name_league name_country\n",
       "0            1    Belgium Jupiler League      Belgium\n",
       "1         1729    England Premier League      England\n",
       "2         4769            France Ligue 1       France\n",
       "3         7809     Germany 1. Bundesliga      Germany\n",
       "4        10257             Italy Serie A        Italy\n",
       "5        13274    Netherlands Eredivisie  Netherlands\n",
       "6        15722        Poland Ekstraklasa       Poland\n",
       "7        17642  Portugal Liga ZON Sagres     Portugal\n",
       "8        19694   Scotland Premier League     Scotland\n",
       "9        21518           Spain LIGA BBVA        Spain\n",
       "10       24558  Switzerland Super League  Switzerland"
      ]
     },
     "execution_count": 176,
     "metadata": {},
     "output_type": "execute_result"
    }
   ],
   "source": [
    "# Merge the country and league dataframes by country id\n",
    "df_league.merge(right=df_country, how=\"inner\", left_on=\"country_id\", right_on=\"id\", suffixes=[\"_league\", \"_country\"])"
   ]
  },
  {
   "cell_type": "code",
   "execution_count": 177,
   "metadata": {},
   "outputs": [
    {
     "data": {
      "text/plain": [
       "Index(['country_id', 'league_id', 'season', 'stage', 'date',\n",
       "       'matcway_team_aph_api_id', 'home_team_api_id', 'ai_id',\n",
       "       'home_team_goal', 'away_team_goal',\n",
       "       ...\n",
       "       'SJA', 'VCH', 'VCD', 'VCA', 'GBH', 'GBD', 'GBA', 'BSH', 'BSD', 'BSA'],\n",
       "      dtype='object', length=114)"
      ]
     },
     "execution_count": 177,
     "metadata": {},
     "output_type": "execute_result"
    }
   ],
   "source": [
    "df_match.isna().sum()"
   ]
  },
  {
   "cell_type": "markdown",
   "metadata": {},
   "source": [
    "Drop columns from the match DataFrame with missing data and with data we do not care about (i.e. players on each team)."
   ]
  },
  {
   "cell_type": "code",
   "execution_count": 178,
   "metadata": {},
   "outputs": [],
   "source": [
    "df_match.columns\n",
    "\n",
    "new_columns = ['season', 'stage', 'date', 'league_id', 'home_team_goal', 'away_team_goal', 'home_team_api_id', 'ai_id']\n",
    "df_match = df_match[new_columns]"
   ]
  },
  {
   "cell_type": "markdown",
   "metadata": {},
   "source": [
    "Drop duplicated and unnecessary ids from league and team DataFrames so that these columns do not show up when DataFrames are merged."
   ]
  },
  {
   "cell_type": "code",
   "execution_count": 179,
   "metadata": {},
   "outputs": [],
   "source": [
    "df_league = df_league.drop(\"country_id\", axis=1)\n",
    "df_team = df_team.drop(\"team_fifa_api_id\", axis=1)"
   ]
  },
  {
   "cell_type": "markdown",
   "metadata": {},
   "source": [
    "Merge match DataFrames with other DataFrames by team and league id to create one DataFrame for all data"
   ]
  },
  {
   "cell_type": "code",
   "execution_count": 180,
   "metadata": {},
   "outputs": [
    {
     "name": "stderr",
     "output_type": "stream",
     "text": [
      "/var/folders/gx/k5m32j_16ts37x6v8_n14c9h0000gn/T/ipykernel_47894/3456576629.py:1: UserWarning: You are merging on int and float columns where the float values are not equal to their int representation.\n",
      "  df_match = df_match.merge(right=df_league, how=\"inner\", left_on=\"league_id\", right_on=\"id\")\n"
     ]
    }
   ],
   "source": [
    "df_match = df_match.merge(right=df_league, how=\"inner\", left_on=\"league_id\", right_on=\"id\")\n",
    "df_match = df_match.merge(right=df_team, how=\"inner\", left_on=\"home_team_api_id\", right_on=\"team_api_id\")\n",
    "df_match = df_match.merge(right=df_team, how=\"inner\", left_on=\"ai_id\", right_on=\"team_api_id\")"
   ]
  },
  {
   "cell_type": "code",
   "execution_count": 181,
   "metadata": {},
   "outputs": [
    {
     "data": {
      "text/html": [
       "<div>\n",
       "<style scoped>\n",
       "    .dataframe tbody tr th:only-of-type {\n",
       "        vertical-align: middle;\n",
       "    }\n",
       "\n",
       "    .dataframe tbody tr th {\n",
       "        vertical-align: top;\n",
       "    }\n",
       "\n",
       "    .dataframe thead th {\n",
       "        text-align: right;\n",
       "    }\n",
       "</style>\n",
       "<table border=\"1\" class=\"dataframe\">\n",
       "  <thead>\n",
       "    <tr style=\"text-align: right;\">\n",
       "      <th></th>\n",
       "      <th>season</th>\n",
       "      <th>stage</th>\n",
       "      <th>date</th>\n",
       "      <th>league_id</th>\n",
       "      <th>home_team_goal</th>\n",
       "      <th>away_team_goal</th>\n",
       "      <th>home_team_api_id</th>\n",
       "      <th>ai_id</th>\n",
       "      <th>name</th>\n",
       "      <th>team_api_id_x</th>\n",
       "      <th>team_long_name_x</th>\n",
       "      <th>team_short_name_x</th>\n",
       "      <th>team_api_id_y</th>\n",
       "      <th>team_long_name_y</th>\n",
       "      <th>team_short_name_y</th>\n",
       "    </tr>\n",
       "  </thead>\n",
       "  <tbody>\n",
       "    <tr>\n",
       "      <th>0</th>\n",
       "      <td>2008/2009</td>\n",
       "      <td>1.0</td>\n",
       "      <td>2008-08-17 00:00:00</td>\n",
       "      <td>1.0</td>\n",
       "      <td>1.0</td>\n",
       "      <td>1.0</td>\n",
       "      <td>9987.0</td>\n",
       "      <td>9993.0</td>\n",
       "      <td>Belgium Jupiler League</td>\n",
       "      <td>9987</td>\n",
       "      <td>KRC Genk</td>\n",
       "      <td>GEN</td>\n",
       "      <td>9993</td>\n",
       "      <td>Beerschot AC</td>\n",
       "      <td>BAC</td>\n",
       "    </tr>\n",
       "    <tr>\n",
       "      <th>1</th>\n",
       "      <td>2008/2009</td>\n",
       "      <td>1.0</td>\n",
       "      <td>2008-08-16 00:00:00</td>\n",
       "      <td>1.0</td>\n",
       "      <td>0.0</td>\n",
       "      <td>0.0</td>\n",
       "      <td>10000.0</td>\n",
       "      <td>9994.0</td>\n",
       "      <td>Belgium Jupiler League</td>\n",
       "      <td>10000</td>\n",
       "      <td>SV Zulte-Waregem</td>\n",
       "      <td>ZUL</td>\n",
       "      <td>9994</td>\n",
       "      <td>Sporting Lokeren</td>\n",
       "      <td>LOK</td>\n",
       "    </tr>\n",
       "    <tr>\n",
       "      <th>2</th>\n",
       "      <td>2008/2009</td>\n",
       "      <td>1.0</td>\n",
       "      <td>2008-08-16 00:00:00</td>\n",
       "      <td>1.0</td>\n",
       "      <td>0.0</td>\n",
       "      <td>3.0</td>\n",
       "      <td>9984.0</td>\n",
       "      <td>8635.0</td>\n",
       "      <td>Belgium Jupiler League</td>\n",
       "      <td>9984</td>\n",
       "      <td>KSV Cercle Brugge</td>\n",
       "      <td>CEB</td>\n",
       "      <td>8635</td>\n",
       "      <td>RSC Anderlecht</td>\n",
       "      <td>AND</td>\n",
       "    </tr>\n",
       "    <tr>\n",
       "      <th>3</th>\n",
       "      <td>2008/2009</td>\n",
       "      <td>1.0</td>\n",
       "      <td>2008-08-17 00:00:00</td>\n",
       "      <td>1.0</td>\n",
       "      <td>5.0</td>\n",
       "      <td>0.0</td>\n",
       "      <td>9991.0</td>\n",
       "      <td>9998.0</td>\n",
       "      <td>Belgium Jupiler League</td>\n",
       "      <td>9991</td>\n",
       "      <td>KAA Gent</td>\n",
       "      <td>GEN</td>\n",
       "      <td>9998</td>\n",
       "      <td>RAEC Mons</td>\n",
       "      <td>MON</td>\n",
       "    </tr>\n",
       "    <tr>\n",
       "      <th>4</th>\n",
       "      <td>2008/2009</td>\n",
       "      <td>1.0</td>\n",
       "      <td>2008-08-16 00:00:00</td>\n",
       "      <td>1.0</td>\n",
       "      <td>1.0</td>\n",
       "      <td>3.0</td>\n",
       "      <td>7947.0</td>\n",
       "      <td>9985.0</td>\n",
       "      <td>Belgium Jupiler League</td>\n",
       "      <td>7947</td>\n",
       "      <td>FCV Dender EH</td>\n",
       "      <td>DEN</td>\n",
       "      <td>9985</td>\n",
       "      <td>Standard de Liège</td>\n",
       "      <td>STL</td>\n",
       "    </tr>\n",
       "  </tbody>\n",
       "</table>\n",
       "</div>"
      ],
      "text/plain": [
       "      season  stage                 date  league_id  home_team_goal  \\\n",
       "0  2008/2009    1.0  2008-08-17 00:00:00        1.0             1.0   \n",
       "1  2008/2009    1.0  2008-08-16 00:00:00        1.0             0.0   \n",
       "2  2008/2009    1.0  2008-08-16 00:00:00        1.0             0.0   \n",
       "3  2008/2009    1.0  2008-08-17 00:00:00        1.0             5.0   \n",
       "4  2008/2009    1.0  2008-08-16 00:00:00        1.0             1.0   \n",
       "\n",
       "   away_team_goal  home_team_api_id   ai_id                    name  \\\n",
       "0             1.0            9987.0  9993.0  Belgium Jupiler League   \n",
       "1             0.0           10000.0  9994.0  Belgium Jupiler League   \n",
       "2             3.0            9984.0  8635.0  Belgium Jupiler League   \n",
       "3             0.0            9991.0  9998.0  Belgium Jupiler League   \n",
       "4             3.0            7947.0  9985.0  Belgium Jupiler League   \n",
       "\n",
       "   team_api_id_x   team_long_name_x team_short_name_x  team_api_id_y  \\\n",
       "0           9987           KRC Genk               GEN           9993   \n",
       "1          10000   SV Zulte-Waregem               ZUL           9994   \n",
       "2           9984  KSV Cercle Brugge               CEB           8635   \n",
       "3           9991           KAA Gent               GEN           9998   \n",
       "4           7947      FCV Dender EH               DEN           9985   \n",
       "\n",
       "    team_long_name_y team_short_name_y  \n",
       "0       Beerschot AC               BAC  \n",
       "1   Sporting Lokeren               LOK  \n",
       "2     RSC Anderlecht               AND  \n",
       "3          RAEC Mons               MON  \n",
       "4  Standard de Liège               STL  "
      ]
     },
     "execution_count": 181,
     "metadata": {},
     "output_type": "execute_result"
    }
   ],
   "source": [
    "df_match.head(5)"
   ]
  },
  {
   "cell_type": "code",
   "execution_count": 182,
   "metadata": {},
   "outputs": [
    {
     "data": {
      "text/plain": [
       "Index(['season', 'stage', 'date', 'league_id', 'home_team_goal',\n",
       "       'away_team_goal', 'home_team_api_id', 'ai_id', 'name', 'team_api_id_x',\n",
       "       'team_long_name_x', 'team_short_name_x', 'team_api_id_y',\n",
       "       'team_long_name_y', 'team_short_name_y'],\n",
       "      dtype='object')"
      ]
     },
     "execution_count": 182,
     "metadata": {},
     "output_type": "execute_result"
    }
   ],
   "source": [
    "df_match.columns"
   ]
  },
  {
   "cell_type": "markdown",
   "metadata": {},
   "source": [
    "Remove all unnecessary and duplicated columns from df_match DataFrame, save back into original DataFrame"
   ]
  },
  {
   "cell_type": "code",
   "execution_count": 183,
   "metadata": {},
   "outputs": [],
   "source": [
    "df_match = df_match[['season', 'stage', 'date','home_team_goal', 'away_team_goal', 'name', 'team_long_name_x', 'team_long_name_y']]"
   ]
  },
  {
   "cell_type": "code",
   "execution_count": 184,
   "metadata": {},
   "outputs": [
    {
     "data": {
      "text/html": [
       "<div>\n",
       "<style scoped>\n",
       "    .dataframe tbody tr th:only-of-type {\n",
       "        vertical-align: middle;\n",
       "    }\n",
       "\n",
       "    .dataframe tbody tr th {\n",
       "        vertical-align: top;\n",
       "    }\n",
       "\n",
       "    .dataframe thead th {\n",
       "        text-align: right;\n",
       "    }\n",
       "</style>\n",
       "<table border=\"1\" class=\"dataframe\">\n",
       "  <thead>\n",
       "    <tr style=\"text-align: right;\">\n",
       "      <th></th>\n",
       "      <th>season</th>\n",
       "      <th>stage</th>\n",
       "      <th>date</th>\n",
       "      <th>home_team_goal</th>\n",
       "      <th>away_team_goal</th>\n",
       "      <th>name</th>\n",
       "      <th>team_long_name_x</th>\n",
       "      <th>team_long_name_y</th>\n",
       "    </tr>\n",
       "  </thead>\n",
       "  <tbody>\n",
       "    <tr>\n",
       "      <th>0</th>\n",
       "      <td>2008/2009</td>\n",
       "      <td>1.0</td>\n",
       "      <td>2008-08-17 00:00:00</td>\n",
       "      <td>1.0</td>\n",
       "      <td>1.0</td>\n",
       "      <td>Belgium Jupiler League</td>\n",
       "      <td>KRC Genk</td>\n",
       "      <td>Beerschot AC</td>\n",
       "    </tr>\n",
       "    <tr>\n",
       "      <th>1</th>\n",
       "      <td>2008/2009</td>\n",
       "      <td>1.0</td>\n",
       "      <td>2008-08-16 00:00:00</td>\n",
       "      <td>0.0</td>\n",
       "      <td>0.0</td>\n",
       "      <td>Belgium Jupiler League</td>\n",
       "      <td>SV Zulte-Waregem</td>\n",
       "      <td>Sporting Lokeren</td>\n",
       "    </tr>\n",
       "    <tr>\n",
       "      <th>2</th>\n",
       "      <td>2008/2009</td>\n",
       "      <td>1.0</td>\n",
       "      <td>2008-08-16 00:00:00</td>\n",
       "      <td>0.0</td>\n",
       "      <td>3.0</td>\n",
       "      <td>Belgium Jupiler League</td>\n",
       "      <td>KSV Cercle Brugge</td>\n",
       "      <td>RSC Anderlecht</td>\n",
       "    </tr>\n",
       "    <tr>\n",
       "      <th>3</th>\n",
       "      <td>2008/2009</td>\n",
       "      <td>1.0</td>\n",
       "      <td>2008-08-17 00:00:00</td>\n",
       "      <td>5.0</td>\n",
       "      <td>0.0</td>\n",
       "      <td>Belgium Jupiler League</td>\n",
       "      <td>KAA Gent</td>\n",
       "      <td>RAEC Mons</td>\n",
       "    </tr>\n",
       "    <tr>\n",
       "      <th>4</th>\n",
       "      <td>2008/2009</td>\n",
       "      <td>1.0</td>\n",
       "      <td>2008-08-16 00:00:00</td>\n",
       "      <td>1.0</td>\n",
       "      <td>3.0</td>\n",
       "      <td>Belgium Jupiler League</td>\n",
       "      <td>FCV Dender EH</td>\n",
       "      <td>Standard de Liège</td>\n",
       "    </tr>\n",
       "  </tbody>\n",
       "</table>\n",
       "</div>"
      ],
      "text/plain": [
       "      season  stage                 date  home_team_goal  away_team_goal  \\\n",
       "0  2008/2009    1.0  2008-08-17 00:00:00             1.0             1.0   \n",
       "1  2008/2009    1.0  2008-08-16 00:00:00             0.0             0.0   \n",
       "2  2008/2009    1.0  2008-08-16 00:00:00             0.0             3.0   \n",
       "3  2008/2009    1.0  2008-08-17 00:00:00             5.0             0.0   \n",
       "4  2008/2009    1.0  2008-08-16 00:00:00             1.0             3.0   \n",
       "\n",
       "                     name   team_long_name_x   team_long_name_y  \n",
       "0  Belgium Jupiler League           KRC Genk       Beerschot AC  \n",
       "1  Belgium Jupiler League   SV Zulte-Waregem   Sporting Lokeren  \n",
       "2  Belgium Jupiler League  KSV Cercle Brugge     RSC Anderlecht  \n",
       "3  Belgium Jupiler League           KAA Gent          RAEC Mons  \n",
       "4  Belgium Jupiler League      FCV Dender EH  Standard de Liège  "
      ]
     },
     "execution_count": 184,
     "metadata": {},
     "output_type": "execute_result"
    }
   ],
   "source": [
    "df_match.head(5)"
   ]
  },
  {
   "cell_type": "markdown",
   "metadata": {},
   "source": [
    "Rename columns to appropriate values"
   ]
  },
  {
   "cell_type": "code",
   "execution_count": 185,
   "metadata": {},
   "outputs": [],
   "source": [
    "df = df_match.rename(columns={\"name\": \"league\", \"team_long_name_x\": \"home_team\", \"team_long_name_y\": \"away_team\"})"
   ]
  },
  {
   "cell_type": "code",
   "execution_count": 186,
   "metadata": {},
   "outputs": [
    {
     "name": "stdout",
     "output_type": "stream",
     "text": [
      "<class 'pandas.core.frame.DataFrame'>\n",
      "RangeIndex: 25979 entries, 0 to 25978\n",
      "Data columns (total 8 columns):\n",
      " #   Column          Non-Null Count  Dtype  \n",
      "---  ------          --------------  -----  \n",
      " 0   season          25979 non-null  object \n",
      " 1   stage           25979 non-null  float64\n",
      " 2   date            25979 non-null  object \n",
      " 3   home_team_goal  25979 non-null  float64\n",
      " 4   away_team_goal  25979 non-null  float64\n",
      " 5   league          25979 non-null  object \n",
      " 6   home_team       25979 non-null  object \n",
      " 7   away_team       25979 non-null  object \n",
      "dtypes: float64(3), object(5)\n",
      "memory usage: 1.6+ MB\n"
     ]
    },
    {
     "data": {
      "text/plain": [
       "(25979, 8)"
      ]
     },
     "execution_count": 186,
     "metadata": {},
     "output_type": "execute_result"
    }
   ],
   "source": [
    "df.info()\n",
    "df.shape"
   ]
  },
  {
   "cell_type": "code",
   "execution_count": 187,
   "metadata": {},
   "outputs": [
    {
     "data": {
      "text/plain": [
       "season            0\n",
       "stage             0\n",
       "date              0\n",
       "home_team_goal    0\n",
       "away_team_goal    0\n",
       "league            0\n",
       "home_team         0\n",
       "away_team         0\n",
       "dtype: int64"
      ]
     },
     "execution_count": 187,
     "metadata": {},
     "output_type": "execute_result"
    }
   ],
   "source": [
    "df.isna().sum()"
   ]
  },
  {
   "cell_type": "code",
   "execution_count": 188,
   "metadata": {},
   "outputs": [
    {
     "data": {
      "text/plain": [
       "home_team_goal\n",
       "1.0     8400\n",
       "2.0     6339\n",
       "0.0     5896\n",
       "3.0     3288\n",
       "4.0     1385\n",
       "5.0      457\n",
       "6.0      161\n",
       "7.0       38\n",
       "8.0        9\n",
       "9.0        4\n",
       "10.0       2\n",
       "Name: count, dtype: int64"
      ]
     },
     "execution_count": 188,
     "metadata": {},
     "output_type": "execute_result"
    }
   ],
   "source": [
    "df[\"season\"].value_counts()\n",
    "df[\"stage\"].value_counts()\n",
    "df[\"home_team_goal\"].value_counts()"
   ]
  },
  {
   "cell_type": "code",
   "execution_count": 189,
   "metadata": {},
   "outputs": [
    {
     "data": {
      "text/plain": [
       "season\n",
       "2008/2009    3326\n",
       "2015/2016    3326\n",
       "2014/2015    3325\n",
       "2010/2011    3260\n",
       "2012/2013    3260\n",
       "2009/2010    3230\n",
       "2011/2012    3220\n",
       "2013/2014    3032\n",
       "Name: count, dtype: int64"
      ]
     },
     "execution_count": 189,
     "metadata": {},
     "output_type": "execute_result"
    }
   ],
   "source": [
    "# sort values by season, determine min and max season\n",
    "df.sort_values('season')\n",
    "df[\"season\"].value_counts()"
   ]
  },
  {
   "cell_type": "markdown",
   "metadata": {},
   "source": [
    "# 5. Univariate Analysis"
   ]
  },
  {
   "cell_type": "code",
   "execution_count": 218,
   "metadata": {},
   "outputs": [
    {
     "data": {
      "text/plain": [
       "Text(0.5, 1.0, 'Boxplot for Home Team Goals')"
      ]
     },
     "execution_count": 218,
     "metadata": {},
     "output_type": "execute_result"
    },
    {
     "data": {
      "image/png": "[encoded data removed]",
      "text/plain": [
       "<Figure size 640x480 with 1 Axes>"
      ]
     },
     "metadata": {},
     "output_type": "display_data"
    }
   ],
   "source": [
    "# Scatterplot of the distribution of home goals in matches\n",
    "sns.boxplot(data=df, x=\"home_team_goal\")\n",
    "df.loc[df[\"home_team_goal\"] == df[\"home_team_goal\"].max()]\n",
    "plt.title(\"Boxplot for Home Team Goals\")"
   ]
  },
  {
   "cell_type": "code",
   "execution_count": 219,
   "metadata": {},
   "outputs": [
    {
     "data": {
      "text/plain": [
       "Text(0.5, 1.0, 'Boxplot for Away Team Goals')"
      ]
     },
     "execution_count": 219,
     "metadata": {},
     "output_type": "execute_result"
    },
    {
     "data": {
      "image/png": "[encoded data removed]",
      "text/plain": [
       "<Figure size 640x480 with 1 Axes>"
      ]
     },
     "metadata": {},
     "output_type": "display_data"
    }
   ],
   "source": [
    "sns.boxplot(data=df, x=\"away_team_goal\")\n",
    "df.loc[df[\"away_team_goal\"] == df[\"away_team_goal\"].max()]\n",
    "plt.title(\"Boxplot for Away Team Goals\")"
   ]
  },
  {
   "cell_type": "code",
   "execution_count": 220,
   "metadata": {},
   "outputs": [
    {
     "data": {
      "text/plain": [
       "Text(0.5, 1.0, '# of Matches Played in Each League')"
      ]
     },
     "execution_count": 220,
     "metadata": {},
     "output_type": "execute_result"
    },
    {
     "data": {
      "image/png": "[encoded data removed]",
      "text/plain": [
       "<Figure size 1400x500 with 1 Axes>"
      ]
     },
     "metadata": {},
     "output_type": "display_data"
    }
   ],
   "source": [
    "# Status\n",
    "plt.figure(figsize=(14,5))\n",
    "sns.histplot(data=df, x=\"league\")\n",
    "plt.xticks(rotation=45)\n",
    "plt.title(\"# of Matches Played in Each League\")"
   ]
  },
  {
   "cell_type": "markdown",
   "metadata": {},
   "source": [
    "# 1. How does a team being a home vs away factor in to their goals in a game in European soccer?"
   ]
  },
  {
   "cell_type": "markdown",
   "metadata": {},
   "source": [
    "Home team goals grouped by team and league"
   ]
  },
  {
   "cell_type": "code",
   "execution_count": 193,
   "metadata": {},
   "outputs": [
    {
     "name": "stdout",
     "output_type": "stream",
     "text": [
      "                                                  home_team_goal\n",
      "league                   home_team                              \n",
      "Belgium Jupiler League   Beerschot AC                   1.473684\n",
      "                         Club Brugge KV                 2.216981\n",
      "                         FCV Dender EH                  1.235294\n",
      "                         KAA Gent                       1.954128\n",
      "                         KAS Eupen                      1.000000\n",
      "...                                                          ...\n",
      "Switzerland Super League FC Zürich                      1.685315\n",
      "                         Grasshopper Club Zürich        1.636364\n",
      "                         Lugano                         1.388889\n",
      "                         Neuchâtel Xamax                1.682540\n",
      "                         Servette FC                    1.171429\n",
      "\n",
      "[296 rows x 1 columns]\n"
     ]
    }
   ],
   "source": [
    "df_home_goals = df.groupby([\"league\",\"home_team\"])[[\"home_team_goal\"]].mean()\n",
    "print(df_home_goals)"
   ]
  },
  {
   "cell_type": "markdown",
   "metadata": {},
   "source": [
    "Average away team goals grouped by team"
   ]
  },
  {
   "cell_type": "code",
   "execution_count": 194,
   "metadata": {},
   "outputs": [
    {
     "name": "stdout",
     "output_type": "stream",
     "text": [
      "                          away_team_goal\n",
      "away_team                               \n",
      "1. FC Kaiserslautern            1.029412\n",
      "1. FC Köln                      1.078431\n",
      "1. FC Nürnberg                  1.000000\n",
      "1. FSV Mainz 05                 1.252101\n",
      "AC Ajaccio                      0.912281\n",
      "...                                  ...\n",
      "Xerez Club Deportivo            0.947368\n",
      "Zagłębie Lubin                  1.011111\n",
      "Zawisza Bydgoszcz               1.066667\n",
      "Évian Thonon Gaillard FC        0.986842\n",
      "Śląsk Wrocław                   1.183333\n",
      "\n",
      "[296 rows x 1 columns]\n"
     ]
    }
   ],
   "source": [
    "df_away_goals = df.groupby([\"away_team\"])[[\"away_team_goal\"]].mean()\n",
    "print(df_away_goals)"
   ]
  },
  {
   "cell_type": "markdown",
   "metadata": {},
   "source": [
    "New DataFrame which includes away team goals and home team goals as columns for each given team. New column \"home_away_difference\" which calculates the difference between home and away goals for a given team"
   ]
  },
  {
   "cell_type": "code",
   "execution_count": 221,
   "metadata": {},
   "outputs": [
    {
     "data": {
      "text/html": [
       "<div>\n",
       "<style scoped>\n",
       "    .dataframe tbody tr th:only-of-type {\n",
       "        vertical-align: middle;\n",
       "    }\n",
       "\n",
       "    .dataframe tbody tr th {\n",
       "        vertical-align: top;\n",
       "    }\n",
       "\n",
       "    .dataframe thead th {\n",
       "        text-align: right;\n",
       "    }\n",
       "</style>\n",
       "<table border=\"1\" class=\"dataframe\">\n",
       "  <thead>\n",
       "    <tr style=\"text-align: right;\">\n",
       "      <th></th>\n",
       "      <th>home_team_goal</th>\n",
       "      <th>away_team_goal</th>\n",
       "      <th>home_away_difference</th>\n",
       "    </tr>\n",
       "  </thead>\n",
       "  <tbody>\n",
       "    <tr>\n",
       "      <th>0</th>\n",
       "      <td>1.473684</td>\n",
       "      <td>0.815789</td>\n",
       "      <td>0.657895</td>\n",
       "    </tr>\n",
       "    <tr>\n",
       "      <th>1</th>\n",
       "      <td>2.216981</td>\n",
       "      <td>1.754717</td>\n",
       "      <td>0.462264</td>\n",
       "    </tr>\n",
       "    <tr>\n",
       "      <th>2</th>\n",
       "      <td>1.235294</td>\n",
       "      <td>1.352941</td>\n",
       "      <td>-0.117647</td>\n",
       "    </tr>\n",
       "    <tr>\n",
       "      <th>3</th>\n",
       "      <td>1.954128</td>\n",
       "      <td>1.623853</td>\n",
       "      <td>0.330275</td>\n",
       "    </tr>\n",
       "    <tr>\n",
       "      <th>4</th>\n",
       "      <td>1.000000</td>\n",
       "      <td>0.866667</td>\n",
       "      <td>0.133333</td>\n",
       "    </tr>\n",
       "    <tr>\n",
       "      <th>...</th>\n",
       "      <td>...</td>\n",
       "      <td>...</td>\n",
       "      <td>...</td>\n",
       "    </tr>\n",
       "    <tr>\n",
       "      <th>291</th>\n",
       "      <td>1.685315</td>\n",
       "      <td>1.587413</td>\n",
       "      <td>0.097902</td>\n",
       "    </tr>\n",
       "    <tr>\n",
       "      <th>292</th>\n",
       "      <td>1.636364</td>\n",
       "      <td>1.363636</td>\n",
       "      <td>0.272727</td>\n",
       "    </tr>\n",
       "    <tr>\n",
       "      <th>293</th>\n",
       "      <td>1.388889</td>\n",
       "      <td>1.166667</td>\n",
       "      <td>0.222222</td>\n",
       "    </tr>\n",
       "    <tr>\n",
       "      <th>294</th>\n",
       "      <td>1.682540</td>\n",
       "      <td>1.031746</td>\n",
       "      <td>0.650794</td>\n",
       "    </tr>\n",
       "    <tr>\n",
       "      <th>295</th>\n",
       "      <td>1.171429</td>\n",
       "      <td>1.028571</td>\n",
       "      <td>0.142857</td>\n",
       "    </tr>\n",
       "  </tbody>\n",
       "</table>\n",
       "<p>296 rows × 3 columns</p>\n",
       "</div>"
      ],
      "text/plain": [
       "     home_team_goal  away_team_goal  home_away_difference\n",
       "0          1.473684        0.815789              0.657895\n",
       "1          2.216981        1.754717              0.462264\n",
       "2          1.235294        1.352941             -0.117647\n",
       "3          1.954128        1.623853              0.330275\n",
       "4          1.000000        0.866667              0.133333\n",
       "..              ...             ...                   ...\n",
       "291        1.685315        1.587413              0.097902\n",
       "292        1.636364        1.363636              0.272727\n",
       "293        1.388889        1.166667              0.222222\n",
       "294        1.682540        1.031746              0.650794\n",
       "295        1.171429        1.028571              0.142857\n",
       "\n",
       "[296 rows x 3 columns]"
      ]
     },
     "execution_count": 221,
     "metadata": {},
     "output_type": "execute_result"
    }
   ],
   "source": [
    "df_goals = df_home_goals.merge(right=df_away_goals,  how=\"inner\", left_on=\"home_team\", right_on=\"away_team\")\n",
    "df_goals = df_goals.assign(home_away_difference = df_goals['home_team_goal'] - df_goals['away_team_goal'])\n",
    "df_goals"
   ]
  },
  {
   "cell_type": "markdown",
   "metadata": {},
   "source": [
    "On average, European soccer teams from 2008 to 2016 scored 0.35 more goals when they were the home team than when they were away."
   ]
  },
  {
   "cell_type": "code",
   "execution_count": 196,
   "metadata": {},
   "outputs": [
    {
     "data": {
      "text/plain": [
       "0.3546194124009011"
      ]
     },
     "execution_count": 196,
     "metadata": {},
     "output_type": "execute_result"
    }
   ],
   "source": [
    "df_goals[\"home_away_difference\"].mean()"
   ]
  },
  {
   "cell_type": "markdown",
   "metadata": {},
   "source": [
    "# 2. How does a team's average goal differential as the home team contribute to whether or not they win?"
   ]
  },
  {
   "cell_type": "markdown",
   "metadata": {},
   "source": [
    "Add columns goal differential and win to new DataFrame"
   ]
  },
  {
   "cell_type": "code",
   "execution_count": 197,
   "metadata": {},
   "outputs": [
    {
     "data": {
      "text/html": [
       "<div>\n",
       "<style scoped>\n",
       "    .dataframe tbody tr th:only-of-type {\n",
       "        vertical-align: middle;\n",
       "    }\n",
       "\n",
       "    .dataframe tbody tr th {\n",
       "        vertical-align: top;\n",
       "    }\n",
       "\n",
       "    .dataframe thead th {\n",
       "        text-align: right;\n",
       "    }\n",
       "</style>\n",
       "<table border=\"1\" class=\"dataframe\">\n",
       "  <thead>\n",
       "    <tr style=\"text-align: right;\">\n",
       "      <th></th>\n",
       "      <th>season</th>\n",
       "      <th>stage</th>\n",
       "      <th>date</th>\n",
       "      <th>home_team_goal</th>\n",
       "      <th>away_team_goal</th>\n",
       "      <th>league</th>\n",
       "      <th>home_team</th>\n",
       "      <th>away_team</th>\n",
       "      <th>home_team_goal_differential</th>\n",
       "      <th>win</th>\n",
       "    </tr>\n",
       "  </thead>\n",
       "  <tbody>\n",
       "    <tr>\n",
       "      <th>0</th>\n",
       "      <td>2008/2009</td>\n",
       "      <td>1.0</td>\n",
       "      <td>2008-08-17 00:00:00</td>\n",
       "      <td>1.0</td>\n",
       "      <td>1.0</td>\n",
       "      <td>Belgium Jupiler League</td>\n",
       "      <td>KRC Genk</td>\n",
       "      <td>Beerschot AC</td>\n",
       "      <td>1.933962</td>\n",
       "      <td>False</td>\n",
       "    </tr>\n",
       "    <tr>\n",
       "      <th>1</th>\n",
       "      <td>2008/2009</td>\n",
       "      <td>1.0</td>\n",
       "      <td>2008-08-16 00:00:00</td>\n",
       "      <td>0.0</td>\n",
       "      <td>0.0</td>\n",
       "      <td>Belgium Jupiler League</td>\n",
       "      <td>SV Zulte-Waregem</td>\n",
       "      <td>Sporting Lokeren</td>\n",
       "      <td>1.660377</td>\n",
       "      <td>False</td>\n",
       "    </tr>\n",
       "    <tr>\n",
       "      <th>2</th>\n",
       "      <td>2008/2009</td>\n",
       "      <td>1.0</td>\n",
       "      <td>2008-08-16 00:00:00</td>\n",
       "      <td>0.0</td>\n",
       "      <td>3.0</td>\n",
       "      <td>Belgium Jupiler League</td>\n",
       "      <td>KSV Cercle Brugge</td>\n",
       "      <td>RSC Anderlecht</td>\n",
       "      <td>1.307692</td>\n",
       "      <td>False</td>\n",
       "    </tr>\n",
       "    <tr>\n",
       "      <th>3</th>\n",
       "      <td>2008/2009</td>\n",
       "      <td>1.0</td>\n",
       "      <td>2008-08-17 00:00:00</td>\n",
       "      <td>5.0</td>\n",
       "      <td>0.0</td>\n",
       "      <td>Belgium Jupiler League</td>\n",
       "      <td>KAA Gent</td>\n",
       "      <td>RAEC Mons</td>\n",
       "      <td>1.954128</td>\n",
       "      <td>True</td>\n",
       "    </tr>\n",
       "    <tr>\n",
       "      <th>4</th>\n",
       "      <td>2008/2009</td>\n",
       "      <td>1.0</td>\n",
       "      <td>2008-08-16 00:00:00</td>\n",
       "      <td>1.0</td>\n",
       "      <td>3.0</td>\n",
       "      <td>Belgium Jupiler League</td>\n",
       "      <td>FCV Dender EH</td>\n",
       "      <td>Standard de Liège</td>\n",
       "      <td>1.235294</td>\n",
       "      <td>False</td>\n",
       "    </tr>\n",
       "  </tbody>\n",
       "</table>\n",
       "</div>"
      ],
      "text/plain": [
       "      season  stage                 date  home_team_goal  away_team_goal  \\\n",
       "0  2008/2009    1.0  2008-08-17 00:00:00             1.0             1.0   \n",
       "1  2008/2009    1.0  2008-08-16 00:00:00             0.0             0.0   \n",
       "2  2008/2009    1.0  2008-08-16 00:00:00             0.0             3.0   \n",
       "3  2008/2009    1.0  2008-08-17 00:00:00             5.0             0.0   \n",
       "4  2008/2009    1.0  2008-08-16 00:00:00             1.0             3.0   \n",
       "\n",
       "                   league          home_team          away_team  \\\n",
       "0  Belgium Jupiler League           KRC Genk       Beerschot AC   \n",
       "1  Belgium Jupiler League   SV Zulte-Waregem   Sporting Lokeren   \n",
       "2  Belgium Jupiler League  KSV Cercle Brugge     RSC Anderlecht   \n",
       "3  Belgium Jupiler League           KAA Gent          RAEC Mons   \n",
       "4  Belgium Jupiler League      FCV Dender EH  Standard de Liège   \n",
       "\n",
       "   home_team_goal_differential    win  \n",
       "0                     1.933962  False  \n",
       "1                     1.660377  False  \n",
       "2                     1.307692  False  \n",
       "3                     1.954128   True  \n",
       "4                     1.235294  False  "
      ]
     },
     "execution_count": 197,
     "metadata": {},
     "output_type": "execute_result"
    }
   ],
   "source": [
    "df_gd = df.merge(right=df_home_goals, on=\"home_team\", suffixes = [\"\", \"_differential\"])\n",
    "df_gd = df_gd.assign(win = df[\"home_team_goal\"] > df[\"away_team_goal\"])\n",
    "df_gd.head(5)"
   ]
  },
  {
   "cell_type": "markdown",
   "metadata": {},
   "source": []
  },
  {
   "cell_type": "code",
   "execution_count": 198,
   "metadata": {},
   "outputs": [
    {
     "data": {
      "text/plain": [
       "home_team\n",
       "1. FC Kaiserslautern        0.235294\n",
       "1. FC Köln                  0.313725\n",
       "1. FC Nürnberg              0.352941\n",
       "1. FSV Mainz 05             0.462185\n",
       "AC Ajaccio                  0.280702\n",
       "                              ...   \n",
       "Xerez Club Deportivo        0.315789\n",
       "Zagłębie Lubin              0.388889\n",
       "Zawisza Bydgoszcz           0.433333\n",
       "Évian Thonon Gaillard FC    0.381579\n",
       "Śląsk Wrocław               0.491667\n",
       "Name: win, Length: 296, dtype: float64"
      ]
     },
     "execution_count": 198,
     "metadata": {},
     "output_type": "execute_result"
    }
   ],
   "source": [
    "# Calculate each team's win percentage as the home team\n",
    "win_percentage = df_gd.groupby(\"home_team\")[\"win\"].sum() / df_gd.groupby(\"home_team\")[\"win\"].count()\n",
    "win_percentage"
   ]
  },
  {
   "cell_type": "code",
   "execution_count": 199,
   "metadata": {},
   "outputs": [],
   "source": [
    "# Find each team's average goal differential\n",
    "goal_diff = df_gd.groupby(\"home_team\")[\"home_team_goal_differential\"].first()"
   ]
  },
  {
   "cell_type": "code",
   "execution_count": 200,
   "metadata": {},
   "outputs": [
    {
     "data": {
      "text/html": [
       "<div>\n",
       "<style scoped>\n",
       "    .dataframe tbody tr th:only-of-type {\n",
       "        vertical-align: middle;\n",
       "    }\n",
       "\n",
       "    .dataframe tbody tr th {\n",
       "        vertical-align: top;\n",
       "    }\n",
       "\n",
       "    .dataframe thead th {\n",
       "        text-align: right;\n",
       "    }\n",
       "</style>\n",
       "<table border=\"1\" class=\"dataframe\">\n",
       "  <thead>\n",
       "    <tr style=\"text-align: right;\">\n",
       "      <th></th>\n",
       "      <th>win_percentage</th>\n",
       "      <th>goal_diff</th>\n",
       "    </tr>\n",
       "    <tr>\n",
       "      <th>home_team</th>\n",
       "      <th></th>\n",
       "      <th></th>\n",
       "    </tr>\n",
       "  </thead>\n",
       "  <tbody>\n",
       "    <tr>\n",
       "      <th>1. FC Kaiserslautern</th>\n",
       "      <td>0.235294</td>\n",
       "      <td>1.088235</td>\n",
       "    </tr>\n",
       "    <tr>\n",
       "      <th>1. FC Köln</th>\n",
       "      <td>0.313725</td>\n",
       "      <td>1.137255</td>\n",
       "    </tr>\n",
       "    <tr>\n",
       "      <th>1. FC Nürnberg</th>\n",
       "      <td>0.352941</td>\n",
       "      <td>1.270588</td>\n",
       "    </tr>\n",
       "    <tr>\n",
       "      <th>1. FSV Mainz 05</th>\n",
       "      <td>0.462185</td>\n",
       "      <td>1.436975</td>\n",
       "    </tr>\n",
       "    <tr>\n",
       "      <th>AC Ajaccio</th>\n",
       "      <td>0.280702</td>\n",
       "      <td>1.122807</td>\n",
       "    </tr>\n",
       "    <tr>\n",
       "      <th>...</th>\n",
       "      <td>...</td>\n",
       "      <td>...</td>\n",
       "    </tr>\n",
       "    <tr>\n",
       "      <th>Xerez Club Deportivo</th>\n",
       "      <td>0.315789</td>\n",
       "      <td>1.052632</td>\n",
       "    </tr>\n",
       "    <tr>\n",
       "      <th>Zagłębie Lubin</th>\n",
       "      <td>0.388889</td>\n",
       "      <td>1.288889</td>\n",
       "    </tr>\n",
       "    <tr>\n",
       "      <th>Zawisza Bydgoszcz</th>\n",
       "      <td>0.433333</td>\n",
       "      <td>1.433333</td>\n",
       "    </tr>\n",
       "    <tr>\n",
       "      <th>Évian Thonon Gaillard FC</th>\n",
       "      <td>0.381579</td>\n",
       "      <td>1.381579</td>\n",
       "    </tr>\n",
       "    <tr>\n",
       "      <th>Śląsk Wrocław</th>\n",
       "      <td>0.491667</td>\n",
       "      <td>1.466667</td>\n",
       "    </tr>\n",
       "  </tbody>\n",
       "</table>\n",
       "<p>296 rows × 2 columns</p>\n",
       "</div>"
      ],
      "text/plain": [
       "                          win_percentage  goal_diff\n",
       "home_team                                          \n",
       "1. FC Kaiserslautern            0.235294   1.088235\n",
       "1. FC Köln                      0.313725   1.137255\n",
       "1. FC Nürnberg                  0.352941   1.270588\n",
       "1. FSV Mainz 05                 0.462185   1.436975\n",
       "AC Ajaccio                      0.280702   1.122807\n",
       "...                                  ...        ...\n",
       "Xerez Club Deportivo            0.315789   1.052632\n",
       "Zagłębie Lubin                  0.388889   1.288889\n",
       "Zawisza Bydgoszcz               0.433333   1.433333\n",
       "Évian Thonon Gaillard FC        0.381579   1.381579\n",
       "Śląsk Wrocław                   0.491667   1.466667\n",
       "\n",
       "[296 rows x 2 columns]"
      ]
     },
     "execution_count": 200,
     "metadata": {},
     "output_type": "execute_result"
    }
   ],
   "source": [
    "# Create a dataframe with columns win_percentage and goal_diff to compare in a scatterplot\n",
    "df_goalvwin = pd.DataFrame({'win_percentage': win_percentage, 'goal_diff': goal_diff})\n",
    "df_goalvwin"
   ]
  },
  {
   "cell_type": "code",
   "execution_count": 222,
   "metadata": {},
   "outputs": [
    {
     "data": {
      "text/plain": [
       "Text(0.5, 1.0, 'Average Goal Differential v. Win Percentage of a Team')"
      ]
     },
     "execution_count": 222,
     "metadata": {},
     "output_type": "execute_result"
    },
    {
     "data": {
      "image/png": "[encoded data removed]",
      "text/plain": [
       "<Figure size 640x480 with 1 Axes>"
      ]
     },
     "metadata": {},
     "output_type": "display_data"
    }
   ],
   "source": [
    "# Create a scatterplot plotting win percentage vs. average goal differential\n",
    "sns.scatterplot(data=df_goalvwin, x=\"goal_diff\", y=\"win_percentage\")\n",
    "plt.title(\"Average Goal Differential v. Win Percentage of a Team\")"
   ]
  },
  {
   "cell_type": "code",
   "execution_count": 224,
   "metadata": {},
   "outputs": [
    {
     "data": {
      "text/plain": [
       "3     1.954128\n",
       "8     1.362637\n",
       "9     2.216981\n",
       "21    1.307692\n",
       "25    1.362637\n",
       "Name: home_team_goal_differential, dtype: float64"
      ]
     },
     "execution_count": 224,
     "metadata": {},
     "output_type": "execute_result"
    }
   ],
   "source": [
    "# Find matches where the home team won and save it in a dataframe\n",
    "df_gd = df_gd.loc[df_gd[\"win\"] == True]\n",
    "gd = df_gd[\"home_team_goal_differential\"]\n",
    "gd.head(5)"
   ]
  },
  {
   "cell_type": "markdown",
   "metadata": {},
   "source": [
    "Histogram of Goal Differential to Wins in European Soccer Games"
   ]
  },
  {
   "cell_type": "code",
   "execution_count": 226,
   "metadata": {},
   "outputs": [
    {
     "data": {
      "image/png": "[encoded data removed]",
      "text/plain": [
       "<Figure size 1400x800 with 1 Axes>"
      ]
     },
     "metadata": {},
     "output_type": "display_data"
    }
   ],
   "source": [
    "# Create histogram showing the number of wins and average goal differential of a team\n",
    "gd.hist(figsize=(14, 8), bins = 10)\n",
    "plt.suptitle(\"Histogram of Average Goal Differential to Wins in European Soccer Games\")\n",
    "plt.ylabel(\"Wins\")\n",
    "plt.xlabel(\"Goal Differential\")\n",
    "plt.show()"
   ]
  },
  {
   "cell_type": "markdown",
   "metadata": {},
   "source": [
    "# 3. How does the month a specific European team plays in affect their play?"
   ]
  },
  {
   "cell_type": "code",
   "execution_count": 204,
   "metadata": {},
   "outputs": [
    {
     "data": {
      "text/html": [
       "<div>\n",
       "<style scoped>\n",
       "    .dataframe tbody tr th:only-of-type {\n",
       "        vertical-align: middle;\n",
       "    }\n",
       "\n",
       "    .dataframe tbody tr th {\n",
       "        vertical-align: top;\n",
       "    }\n",
       "\n",
       "    .dataframe thead th {\n",
       "        text-align: right;\n",
       "    }\n",
       "</style>\n",
       "<table border=\"1\" class=\"dataframe\">\n",
       "  <thead>\n",
       "    <tr style=\"text-align: right;\">\n",
       "      <th></th>\n",
       "      <th>season</th>\n",
       "      <th>stage</th>\n",
       "      <th>date</th>\n",
       "      <th>home_team_goal</th>\n",
       "      <th>away_team_goal</th>\n",
       "      <th>league</th>\n",
       "      <th>home_team</th>\n",
       "      <th>away_team</th>\n",
       "    </tr>\n",
       "  </thead>\n",
       "  <tbody>\n",
       "    <tr>\n",
       "      <th>1733</th>\n",
       "      <td>2008/2009</td>\n",
       "      <td>1.0</td>\n",
       "      <td>2008-08-16 00:00:00</td>\n",
       "      <td>2.0</td>\n",
       "      <td>3.0</td>\n",
       "      <td>England Premier League</td>\n",
       "      <td>Everton</td>\n",
       "      <td>Blackburn Rovers</td>\n",
       "    </tr>\n",
       "    <tr>\n",
       "      <th>1741</th>\n",
       "      <td>2008/2009</td>\n",
       "      <td>10.0</td>\n",
       "      <td>2008-10-29 00:00:00</td>\n",
       "      <td>0.0</td>\n",
       "      <td>1.0</td>\n",
       "      <td>England Premier League</td>\n",
       "      <td>Bolton Wanderers</td>\n",
       "      <td>Everton</td>\n",
       "    </tr>\n",
       "    <tr>\n",
       "      <th>1750</th>\n",
       "      <td>2008/2009</td>\n",
       "      <td>11.0</td>\n",
       "      <td>2008-11-01 00:00:00</td>\n",
       "      <td>1.0</td>\n",
       "      <td>0.0</td>\n",
       "      <td>England Premier League</td>\n",
       "      <td>Everton</td>\n",
       "      <td>Fulham</td>\n",
       "    </tr>\n",
       "    <tr>\n",
       "      <th>1761</th>\n",
       "      <td>2008/2009</td>\n",
       "      <td>12.0</td>\n",
       "      <td>2008-11-08 00:00:00</td>\n",
       "      <td>1.0</td>\n",
       "      <td>3.0</td>\n",
       "      <td>England Premier League</td>\n",
       "      <td>West Ham United</td>\n",
       "      <td>Everton</td>\n",
       "    </tr>\n",
       "    <tr>\n",
       "      <th>1771</th>\n",
       "      <td>2008/2009</td>\n",
       "      <td>13.0</td>\n",
       "      <td>2008-11-16 00:00:00</td>\n",
       "      <td>1.0</td>\n",
       "      <td>1.0</td>\n",
       "      <td>England Premier League</td>\n",
       "      <td>Everton</td>\n",
       "      <td>Middlesbrough</td>\n",
       "    </tr>\n",
       "    <tr>\n",
       "      <th>...</th>\n",
       "      <td>...</td>\n",
       "      <td>...</td>\n",
       "      <td>...</td>\n",
       "      <td>...</td>\n",
       "      <td>...</td>\n",
       "      <td>...</td>\n",
       "      <td>...</td>\n",
       "      <td>...</td>\n",
       "    </tr>\n",
       "    <tr>\n",
       "      <th>4720</th>\n",
       "      <td>2015/2016</td>\n",
       "      <td>5.0</td>\n",
       "      <td>2015-09-12 00:00:00</td>\n",
       "      <td>3.0</td>\n",
       "      <td>1.0</td>\n",
       "      <td>England Premier League</td>\n",
       "      <td>Everton</td>\n",
       "      <td>Chelsea</td>\n",
       "    </tr>\n",
       "    <tr>\n",
       "      <th>4736</th>\n",
       "      <td>2015/2016</td>\n",
       "      <td>6.0</td>\n",
       "      <td>2015-09-19 00:00:00</td>\n",
       "      <td>0.0</td>\n",
       "      <td>0.0</td>\n",
       "      <td>England Premier League</td>\n",
       "      <td>Swansea City</td>\n",
       "      <td>Everton</td>\n",
       "    </tr>\n",
       "    <tr>\n",
       "      <th>4746</th>\n",
       "      <td>2015/2016</td>\n",
       "      <td>7.0</td>\n",
       "      <td>2015-09-28 00:00:00</td>\n",
       "      <td>2.0</td>\n",
       "      <td>3.0</td>\n",
       "      <td>England Premier League</td>\n",
       "      <td>West Bromwich Albion</td>\n",
       "      <td>Everton</td>\n",
       "    </tr>\n",
       "    <tr>\n",
       "      <th>4753</th>\n",
       "      <td>2015/2016</td>\n",
       "      <td>8.0</td>\n",
       "      <td>2015-10-04 00:00:00</td>\n",
       "      <td>1.0</td>\n",
       "      <td>1.0</td>\n",
       "      <td>England Premier League</td>\n",
       "      <td>Everton</td>\n",
       "      <td>Liverpool</td>\n",
       "    </tr>\n",
       "    <tr>\n",
       "      <th>4760</th>\n",
       "      <td>2015/2016</td>\n",
       "      <td>9.0</td>\n",
       "      <td>2015-10-17 00:00:00</td>\n",
       "      <td>0.0</td>\n",
       "      <td>3.0</td>\n",
       "      <td>England Premier League</td>\n",
       "      <td>Everton</td>\n",
       "      <td>Manchester United</td>\n",
       "    </tr>\n",
       "  </tbody>\n",
       "</table>\n",
       "<p>304 rows × 8 columns</p>\n",
       "</div>"
      ],
      "text/plain": [
       "         season  stage                 date  home_team_goal  away_team_goal  \\\n",
       "1733  2008/2009    1.0  2008-08-16 00:00:00             2.0             3.0   \n",
       "1741  2008/2009   10.0  2008-10-29 00:00:00             0.0             1.0   \n",
       "1750  2008/2009   11.0  2008-11-01 00:00:00             1.0             0.0   \n",
       "1761  2008/2009   12.0  2008-11-08 00:00:00             1.0             3.0   \n",
       "1771  2008/2009   13.0  2008-11-16 00:00:00             1.0             1.0   \n",
       "...         ...    ...                  ...             ...             ...   \n",
       "4720  2015/2016    5.0  2015-09-12 00:00:00             3.0             1.0   \n",
       "4736  2015/2016    6.0  2015-09-19 00:00:00             0.0             0.0   \n",
       "4746  2015/2016    7.0  2015-09-28 00:00:00             2.0             3.0   \n",
       "4753  2015/2016    8.0  2015-10-04 00:00:00             1.0             1.0   \n",
       "4760  2015/2016    9.0  2015-10-17 00:00:00             0.0             3.0   \n",
       "\n",
       "                      league             home_team          away_team  \n",
       "1733  England Premier League               Everton   Blackburn Rovers  \n",
       "1741  England Premier League      Bolton Wanderers            Everton  \n",
       "1750  England Premier League               Everton             Fulham  \n",
       "1761  England Premier League       West Ham United            Everton  \n",
       "1771  England Premier League               Everton      Middlesbrough  \n",
       "...                      ...                   ...                ...  \n",
       "4720  England Premier League               Everton            Chelsea  \n",
       "4736  England Premier League          Swansea City            Everton  \n",
       "4746  England Premier League  West Bromwich Albion            Everton  \n",
       "4753  England Premier League               Everton          Liverpool  \n",
       "4760  England Premier League               Everton  Manchester United  \n",
       "\n",
       "[304 rows x 8 columns]"
      ]
     },
     "execution_count": 204,
     "metadata": {},
     "output_type": "execute_result"
    }
   ],
   "source": [
    "# New dataframe containing matches that the Everton team has played in\n",
    "df_everton = df.query((\"home_team == 'Everton' or away_team == 'Everton'\"))\n",
    "df_everton"
   ]
  },
  {
   "cell_type": "code",
   "execution_count": 205,
   "metadata": {},
   "outputs": [
    {
     "name": "stderr",
     "output_type": "stream",
     "text": [
      "/var/folders/gx/k5m32j_16ts37x6v8_n14c9h0000gn/T/ipykernel_47894/2077659174.py:6: SettingWithCopyWarning: \n",
      "A value is trying to be set on a copy of a slice from a DataFrame.\n",
      "Try using .loc[row_indexer,col_indexer] = value instead\n",
      "\n",
      "See the caveats in the documentation: https://pandas.pydata.org/pandas-docs/stable/user_guide/indexing.html#returning-a-view-versus-a-copy\n",
      "  df_everton[\"month\"] = df_everton[\"date\"].map(get_month)\n"
     ]
    }
   ],
   "source": [
    "# Create a new column in the dataframe containing the month the match was in\n",
    "def get_month(date):\n",
    "    index = date.index(\"-\")\n",
    "    date = date[index + 1:index + 3]\n",
    "    return date\n",
    "\n",
    "df_everton[\"month\"] = df_everton[\"date\"].map(get_month)"
   ]
  },
  {
   "cell_type": "code",
   "execution_count": 206,
   "metadata": {},
   "outputs": [],
   "source": [
    "df_everton.head(5)\n",
    "df_everton = df_everton.sort_values([\"month\"])"
   ]
  },
  {
   "cell_type": "code",
   "execution_count": 229,
   "metadata": {},
   "outputs": [
    {
     "data": {
      "image/png": "[encoded data removed]",
      "text/plain": [
       "<Figure size 640x480 with 1 Axes>"
      ]
     },
     "metadata": {},
     "output_type": "display_data"
    }
   ],
   "source": [
    "# Create a histogram of the matches Everton has played each month\n",
    "months = df_everton[\"month\"]\n",
    "months = pd.DataFrame({\"month\": months})\n",
    "sns.histplot(data=months, x=\"month\")\n",
    "plt.suptitle(\"Histogram of Games Played in Each Month for Everton\")\n",
    "plt.xlabel(\"Month\")\n",
    "plt.show()"
   ]
  },
  {
   "cell_type": "code",
   "execution_count": 230,
   "metadata": {},
   "outputs": [
    {
     "data": {
      "text/plain": [
       "month\n",
       "01    16\n",
       "02    13\n",
       "03    17\n",
       "04    18\n",
       "05    11\n",
       "08    12\n",
       "09    12\n",
       "10    14\n",
       "11    17\n",
       "12    22\n",
       "Name: count, dtype: int64"
      ]
     },
     "execution_count": 230,
     "metadata": {},
     "output_type": "execute_result"
    }
   ],
   "source": [
    "# New DataFrame containing only matches where Everton was the home team\n",
    "df_everton_home = df_everton.query(\"home_team == 'Everton'\")\n",
    "home_games_each_month = df_everton_home[\"month\"].value_counts()\n",
    "home_games_each_month = home_games_each_month.sort_index()\n",
    "home_games_each_month"
   ]
  },
  {
   "cell_type": "code",
   "execution_count": 209,
   "metadata": {},
   "outputs": [],
   "source": [
    "# New DataFrame containing only matches where Everton was the away team\n",
    "df_everton_away = df_everton.query(\"away_team == 'Everton'\")\n",
    "home_sum = df_everton_home.groupby([\"month\"])[[\"home_team_goal\"]].sum()\n",
    "# Calculates average goals per game in each month where Everton was the home team\n",
    "home_gpg = home_sum[\"home_team_goal\"] / home_games_each_month\n",
    "# Converts series to dataframe\n",
    "home_gpg = pd.DataFrame({\"Goals Per Game\":home_gpg})"
   ]
  },
  {
   "cell_type": "code",
   "execution_count": 210,
   "metadata": {},
   "outputs": [],
   "source": [
    "away_games_each_month = df_everton_away[\"month\"].value_counts()\n",
    "away_games_each_month = away_games_each_month.sort_index()\n",
    "away_sum = df_everton_away.groupby([\"month\"])[[\"away_team_goal\"]].sum()\n",
    "# Calculates average goals per game in each month where Everton was the away team\n",
    "away_gpg = away_sum[\"away_team_goal\"] / away_games_each_month\n",
    "# Converts series to dataframe\n",
    "away_gpg = pd.DataFrame({\"Goals Per Game\":away_gpg})"
   ]
  },
  {
   "cell_type": "code",
   "execution_count": 211,
   "metadata": {},
   "outputs": [
    {
     "data": {
      "text/plain": [
       "Text(0.5, 1.0, \"Everton's Average Home Goals Per Game for Each Month\")"
      ]
     },
     "execution_count": 211,
     "metadata": {},
     "output_type": "execute_result"
    },
    {
     "data": {
      "image/png": "[encoded data removed]",
      "text/plain": [
       "<Figure size 640x480 with 1 Axes>"
      ]
     },
     "metadata": {},
     "output_type": "display_data"
    }
   ],
   "source": [
    "# Creates scatterplot of Everton's average home goals per game every month\n",
    "sns.scatterplot(data=home_gpg, x=\"month\", y=\"Goals Per Game\")\n",
    "plt.title(\"Everton's Average Home Goals Per Game for Each Month\")"
   ]
  },
  {
   "cell_type": "code",
   "execution_count": 212,
   "metadata": {},
   "outputs": [
    {
     "data": {
      "text/plain": [
       "Text(0.5, 1.0, \"Everton's Average Away Goals Per Game for Each Month\")"
      ]
     },
     "execution_count": 212,
     "metadata": {},
     "output_type": "execute_result"
    },
    {
     "data": {
      "image/png": "[encoded data removed]",
      "text/plain": [
       "<Figure size 640x480 with 1 Axes>"
      ]
     },
     "metadata": {},
     "output_type": "display_data"
    }
   ],
   "source": [
    "# Creates scatterplot of Everton's average away goals per game every month\n",
    "sns.scatterplot(data=away_gpg, x=\"month\", y=\"Goals Per Game\")\n",
    "plt.title(\"Everton's Average Away Goals Per Game for Each Month\")"
   ]
  },
  {
   "cell_type": "code",
   "execution_count": 232,
   "metadata": {},
   "outputs": [
    {
     "name": "stdout",
     "output_type": "stream",
     "text": [
      "Goals Per Game    2.230769\n",
      "dtype: float64\n"
     ]
    },
    {
     "data": {
      "text/plain": [
       "Goals Per Game    1.571429\n",
       "dtype: float64"
      ]
     },
     "execution_count": 232,
     "metadata": {},
     "output_type": "execute_result"
    }
   ],
   "source": [
    "# Max average goals per game in a certain month as the home team and away team\n",
    "print(home_gpg.max())\n",
    "away_gpg.max()"
   ]
  },
  {
   "cell_type": "code",
   "execution_count": 214,
   "metadata": {},
   "outputs": [],
   "source": [
    "# Add column win for whether or not Everton has won\n",
    "df_everton_home = df_everton_home.assign(win = df_everton_home[\"home_team_goal\"] > df_everton_home[\"away_team_goal\"])\n",
    "df_everton_away = df_everton_away.assign(win = df_everton_away[\"away_team_goal\"] > df_everton_away[\"home_team_goal\"])"
   ]
  },
  {
   "cell_type": "code",
   "execution_count": 215,
   "metadata": {},
   "outputs": [],
   "source": [
    "# Calculate Everton's away and home win percentages for each month\n",
    "away_win_pg = df_everton_away.groupby(\"month\")[\"win\"].sum() / df_everton_away.groupby(\"month\")[\"win\"].count()\n",
    "home_win_pg = df_everton_home.groupby(\"month\")[\"win\"].sum() / df_everton_home.groupby(\"month\")[\"win\"].count()\n",
    "# Converts series to dataframes\n",
    "away_win_pg = pd.DataFrame({\"Win Percentage\":away_win_pg})\n",
    "home_win_pg = pd.DataFrame({\"Win Percentage\":home_win_pg})"
   ]
  },
  {
   "cell_type": "code",
   "execution_count": 216,
   "metadata": {},
   "outputs": [
    {
     "data": {
      "text/plain": [
       "Text(0.5, 1.0, \"Everton's Away Win Percentages for Each Month\")"
      ]
     },
     "execution_count": 216,
     "metadata": {},
     "output_type": "execute_result"
    },
    {
     "data": {
      "image/png": "[encoded data removed]",
      "text/plain": [
       "<Figure size 640x480 with 1 Axes>"
      ]
     },
     "metadata": {},
     "output_type": "display_data"
    }
   ],
   "source": [
    "# Creates scatterplot of everton's away win percentage for each month\n",
    "sns.scatterplot(data=away_win_pg, x=\"month\", y=\"Win Percentage\")\n",
    "plt.title(\"Everton's Away Win Percentages for Each Month\")"
   ]
  },
  {
   "cell_type": "code",
   "execution_count": 217,
   "metadata": {},
   "outputs": [
    {
     "data": {
      "text/plain": [
       "Text(0.5, 1.0, \"Everton's Home Win Percentages for Each Month\")"
      ]
     },
     "execution_count": 217,
     "metadata": {},
     "output_type": "execute_result"
    },
    {
     "data": {
      "image/png": "[encoded data removed]",
      "text/plain": [
       "<Figure size 640x480 with 1 Axes>"
      ]
     },
     "metadata": {},
     "output_type": "display_data"
    }
   ],
   "source": [
    "# Creates scatterplot of everton's home win percentage for each month\n",
    "sns.scatterplot(data=home_win_pg, x=\"month\", y=\"Win Percentage\")\n",
    "plt.title(\"Everton's Home Win Percentages for Each Month\")"
   ]
  },
  {
   "cell_type": "code",
   "execution_count": 233,
   "metadata": {},
   "outputs": [
    {
     "name": "stdout",
     "output_type": "stream",
     "text": [
      "Win Percentage    0.764706\n",
      "dtype: float64\n"
     ]
    }
   ],
   "source": [
    "# 76.5% home win percentage in March\n",
    "home_win_pg.max()"
   ]
  },
  {
   "cell_type": "code",
   "execution_count": 234,
   "metadata": {},
   "outputs": [
    {
     "data": {
      "text/plain": [
       "Win Percentage    0.466667\n",
       "dtype: float64"
      ]
     },
     "execution_count": 234,
     "metadata": {},
     "output_type": "execute_result"
    }
   ],
   "source": [
    "# 46.7% away win percentage in March.\n",
    "away_win_pg.max() "
   ]
  }
 ],
 "metadata": {
  "kernelspec": {
   "display_name": "Python 3",
   "language": "python",
   "name": "python3"
  },
  "language_info": {
   "codemirror_mode": {
    "name": "ipython",
    "version": 3
   },
   "file_extension": ".py",
   "mimetype": "text/x-python",
   "name": "python",
   "nbconvert_exporter": "python",
   "pygments_lexer": "ipython3",
   "version": "3.9.6"
  },
  "orig_nbformat": 4
 },
 "nbformat": 4,
 "nbformat_minor": 2
}
